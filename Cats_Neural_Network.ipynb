{
  "nbformat": 4,
  "nbformat_minor": 0,
  "metadata": {
    "colab": {
      "provenance": [],
      "include_colab_link": true
    },
    "kernelspec": {
      "name": "python3",
      "display_name": "Python 3"
    }
  },
  "cells": [
    {
      "cell_type": "markdown",
      "metadata": {
        "id": "view-in-github",
        "colab_type": "text"
      },
      "source": [
        "<a href=\"https://colab.research.google.com/github/mikelmiras/mdd/blob/main/Cats_Neural_Network.ipynb\" target=\"_parent\"><img src=\"https://colab.research.google.com/assets/colab-badge.svg\" alt=\"Open In Colab\"/></a>"
      ]
    },
    {
      "cell_type": "markdown",
      "metadata": {
        "id": "KtPe9mrrueNX"
      },
      "source": [
        "# Ejericio 2: Clasificando Gatos con Regresión Logística\n",
        "En el ejercicio anterior cargamos los datos de unos ficheros con imágenes de gatos. En este segundo ejercicio, aprenderemos un modelo muy simple de regresión logística. Recuerda que ese modelo se puede considerar una versión muy simple de una red neuronal. A continuación, el diagrama que describe el modelo que vamos a implementar:\n",
        "\n",
        "![alt text](https://drive.google.com/uc?id=1VfKgnsvczXqKMMMGz_GR8reLQUIX7kDS)\n",
        "\n"
      ]
    },
    {
      "cell_type": "markdown",
      "metadata": {
        "id": "ns4yH3kdwEud"
      },
      "source": [
        "La expresión matemática del algoritmo\n",
        "\n",
        "Para una muestra de datos $x^{(i)}$:\n",
        "\n",
        "$z^{(i)} = W^T x^{(i)} + b$\n",
        "\n",
        "$\\hat{y} = a^{(i)} = \\sigma (z^{(i)})$\n",
        "\n",
        "$(a^{(i)}, y^{(i)}) = - y^{(i)} log(a^{(i)} - (1-y^{(i)}) log(1-a^{(i)})$\n",
        "\n",
        "La función de coste se consigue calculando sobre todas las muestras de train:\n",
        "\n",
        "$J = \\frac{1}{m} \\Sigma_{i=1}^m (a^{(i)}, y^{(i)})$\n",
        "\n",
        "\n",
        "Estas son las tareas principales a realizar en este ejercicio:\n",
        "\n",
        "\n",
        "*   Inicializar los parámetros del modelo.\n",
        "*   Aprender los parámetros óptimos del modelo minimizando la función de coste.\n",
        "*   Clasificar las muestras de test con los parámetros aprendidos.\n",
        "*   Analizar los resultados y extraer conclusiones."
      ]
    },
    {
      "cell_type": "markdown",
      "metadata": {
        "id": "pT8EenemyyL3"
      },
      "source": [
        "# Preparación del entorno\n",
        "Para comenzar el ejercicio, tenemos que importar las librerías, cargar los datasets y estandarizar los datos. Ya hicimos eso en el ejercicio anterior, así que nos limitaremos a pegar el código y a ejecutarlo."
      ]
    },
    {
      "cell_type": "code",
      "metadata": {
        "id": "e1ubuKrNh70u"
      },
      "source": [
        "import numpy as np\n",
        "import matplotlib.pyplot as plt\n",
        "import h5py\n",
        "import scipy\n",
        "from PIL import Image\n",
        "from scipy import ndimage"
      ],
      "execution_count": null,
      "outputs": []
    },
    {
      "cell_type": "code",
      "metadata": {
        "id": "Lq8ikAFNMirl",
        "colab": {
          "base_uri": "https://localhost:8080/"
        },
        "outputId": "147f950f-6fa6-4525-f2a0-dfaf0493b799"
      },
      "source": [
        "!wget -O train_catvnoncat.h5 https://ehubox.ehu.eus/s/62gBFyzGpDD7rei/download\n",
        "!wget -O test_catvnoncat.h5 https://ehubox.ehu.eus/s/eBa6kaBjyK3nwSf/download\n",
        "!ls"
      ],
      "execution_count": null,
      "outputs": [
        {
          "output_type": "stream",
          "name": "stdout",
          "text": [
            "--2023-12-24 10:14:35--  https://ehubox.ehu.eus/s/62gBFyzGpDD7rei/download\n",
            "Resolving ehubox.ehu.eus (ehubox.ehu.eus)... 158.227.0.95\n",
            "Connecting to ehubox.ehu.eus (ehubox.ehu.eus)|158.227.0.95|:443... connected.\n",
            "HTTP request sent, awaiting response... 200 OK\n",
            "Length: 2572022 (2.5M) [application/octet-stream]\n",
            "Saving to: ‘train_catvnoncat.h5’\n",
            "\n",
            "train_catvnoncat.h5 100%[===================>]   2.45M   142KB/s    in 16s     \n",
            "\n",
            "2023-12-24 10:14:52 (157 KB/s) - ‘train_catvnoncat.h5’ saved [2572022/2572022]\n",
            "\n",
            "--2023-12-24 10:14:52--  https://ehubox.ehu.eus/s/eBa6kaBjyK3nwSf/download\n",
            "Resolving ehubox.ehu.eus (ehubox.ehu.eus)... 158.227.0.95\n",
            "Connecting to ehubox.ehu.eus (ehubox.ehu.eus)|158.227.0.95|:443... connected.\n",
            "HTTP request sent, awaiting response... 200 OK\n",
            "Length: 616958 (602K) [application/octet-stream]\n",
            "Saving to: ‘test_catvnoncat.h5’\n",
            "\n",
            "test_catvnoncat.h5  100%[===================>] 602.50K   152KB/s    in 4.0s    \n",
            "\n",
            "2023-12-24 10:14:57 (152 KB/s) - ‘test_catvnoncat.h5’ saved [616958/616958]\n",
            "\n",
            "sample_data  test_catvnoncat.h5  train_catvnoncat.h5\n"
          ]
        }
      ]
    },
    {
      "cell_type": "code",
      "metadata": {
        "id": "gN2Dd5Niltn7"
      },
      "source": [
        "def load_dataset():\n",
        "  train_dataset = h5py.File(\"train_catvnoncat.h5\", \"r\")\n",
        "  train_set_x_orig = np.array(train_dataset[\"train_set_x\"][:]) # your train set features\n",
        "  train_set_y_orig = np.array(train_dataset[\"train_set_y\"][:]) # your train set labels\n",
        "\n",
        "  test_dataset = h5py.File(\"test_catvnoncat.h5\", \"r\")\n",
        "  test_set_x_orig = np.array(test_dataset[\"test_set_x\"][:]) # your test set features\n",
        "  test_set_y_orig = np.array(test_dataset[\"test_set_y\"][:]) # your test set labels\n",
        "\n",
        "  classes = np.array(test_dataset[\"list_classes\"][:]) # the list of classes\n",
        "\n",
        "  train_set_y_orig = train_set_y_orig.reshape((1, train_set_y_orig.shape[0]))\n",
        "  test_set_y_orig = test_set_y_orig.reshape((1, test_set_y_orig.shape[0]))\n",
        "\n",
        "  return train_set_x_orig, train_set_y_orig, test_set_x_orig, test_set_y_orig, classes"
      ],
      "execution_count": null,
      "outputs": []
    },
    {
      "cell_type": "code",
      "metadata": {
        "id": "kmPaVkuPm3MQ",
        "colab": {
          "base_uri": "https://localhost:8080/",
          "height": 450
        },
        "outputId": "3108c8a2-0b6d-4c57-c850-869fde51d863"
      },
      "source": [
        "# Loading the data (cat/non-cat)\n",
        "train_set_x_orig, train_set_y, test_set_x_orig, test_set_y, classes = load_dataset()\n",
        "\n",
        "# Example of a picture\n",
        "index = 6\n",
        "plt.imshow(train_set_x_orig[index])\n",
        "print (\"y = \" + str(train_set_y[:, index]) + \", it's a '\" + classes[np.squeeze(train_set_y[:, index])].decode(\"utf-8\") +  \"' picture.\")"
      ],
      "execution_count": null,
      "outputs": [
        {
          "output_type": "stream",
          "name": "stdout",
          "text": [
            "y = [0], it's a 'non-cat' picture.\n"
          ]
        },
        {
          "output_type": "display_data",
          "data": {
            "text/plain": [
              "<Figure size 640x480 with 1 Axes>"
            ],
            "image/png": "[encoded data removed]"
          },
          "metadata": {}
        }
      ]
    },
    {
      "cell_type": "code",
      "metadata": {
        "id": "SD4r8GmrqzPh",
        "colab": {
          "base_uri": "https://localhost:8080/"
        },
        "outputId": "2d03b906-b511-4957-b0eb-fad294b014dd"
      },
      "source": [
        "m_train = train_set_x_orig.shape[0]\n",
        "m_test = test_set_x_orig.shape[0]\n",
        "num_px_height = train_set_x_orig.shape[1]\n",
        "num_px_width = train_set_x_orig.shape[2]\n",
        "num_px = num_px_width\n",
        "\n",
        "print (\"Cantidad de muestras de train: m_train = \" + str(m_train))\n",
        "print (\"Cantidad de muestras de test:  m_test = \" + str(m_test))\n",
        "print (\"Altura de las imágenes: num_px_height = \" + str(num_px_height))\n",
        "print (\"Anchura de las imágenes: num_px_width = \" + str(num_px_width))\n",
        "print (\"Tamaño de cada imagen: (\" + str(num_px_height) + \", \" + str(num_px_width) + \", 3)\")\n",
        "print (\"Estructura de las muestras de train X: \" + str(train_set_x_orig.shape))\n",
        "print (\"Estructura de las etiquetas de train Y: \" + str(train_set_y.shape))\n",
        "print (\"Estructura de las muestras de test X: \" + str(test_set_x_orig.shape))\n",
        "print (\"Estructura de las etiquetas de test Y: \" + str(test_set_y.shape))\n",
        "\n",
        "# Vamos a reestructurar los datos, convirtiendo el cubo que forma una imagen [height, width, channels] a un vector de height*width*channel elementos\n",
        "train_set_x_flatten = train_set_x_orig.reshape(train_set_x_orig.shape[0], -1).T\n",
        "test_set_x_flatten = test_set_x_orig.reshape(test_set_x_orig.shape[0], -1).T\n",
        "\n",
        "\n",
        "print (\"X_train.shape: \" + str(train_set_x_flatten.shape))\n",
        "print (\"Y_train.shape: \" + str(train_set_y.shape))\n",
        "print (\"X_test.shape: \" + str(test_set_x_flatten.shape))\n",
        "print (\"Y_test.shape: \" + str(test_set_y.shape))\n",
        "\n",
        "print (\"Verifica que los datos se han reestructurado correctamente: \" + str(train_set_x_flatten[0:5,0]))\n",
        "\n",
        "# Para estandarizar los datos, dividiremos el valor de cada pixel por el valor maximo (255 en este caso).\n",
        "train_set_x = train_set_x_flatten/255.\n",
        "test_set_x = test_set_x_flatten/255."
      ],
      "execution_count": null,
      "outputs": [
        {
          "output_type": "stream",
          "name": "stdout",
          "text": [
            "Cantidad de muestras de train: m_train = 209\n",
            "Cantidad de muestras de test:  m_test = 50\n",
            "Altura de las imágenes: num_px_height = 64\n",
            "Anchura de las imágenes: num_px_width = 64\n",
            "Tamaño de cada imagen: (64, 64, 3)\n",
            "Estructura de las muestras de train X: (209, 64, 64, 3)\n",
            "Estructura de las etiquetas de train Y: (1, 209)\n",
            "Estructura de las muestras de test X: (50, 64, 64, 3)\n",
            "Estructura de las etiquetas de test Y: (1, 50)\n",
            "X_train.shape: (12288, 209)\n",
            "Y_train.shape: (1, 209)\n",
            "X_test.shape: (12288, 50)\n",
            "Y_test.shape: (1, 50)\n",
            "Verifica que los datos se han reestructurado correctamente: [17 31 56 22 33]\n"
          ]
        }
      ]
    },
    {
      "cell_type": "markdown",
      "metadata": {
        "id": "bXDfRERRz5jC"
      },
      "source": [
        "# Construyendo el algoritmo\n",
        "Para entrenar una red neuronal, tenemos que implementar las siguientes líneas:\n",
        "\n",
        "\n",
        "1.   Definir la estructura del modelo (¿cuántas varaibles de entrada?).\n",
        "2.   Inicializar los parámetros del modelo.\n",
        "3.   Loop:\n",
        "   *   Calcular el valor de la función de coste (forward pass).\n",
        "   *   Calcular el valor de los gradientes (backward pass).\n",
        "   *   Actualizar los parámetros (gradient descent).\n",
        "\n",
        "A continuación, vamos a implementar cada parte de forma separada para juntar todas al final, implementando una red neuronal."
      ]
    },
    {
      "cell_type": "markdown",
      "metadata": {
        "id": "1ECoCRW01HYl"
      },
      "source": [
        "## 2.1 Funciones ayudantes\n",
        "Implementa la función sigmoid() ($\\sigma$). Más adelante la necesitaremos, para calcular las predicciones $\\sigma(W^T x+ b)$. Recuerda que $\\sigma(z) = \\frac{1}{1+e^{-z}}$"
      ]
    },
    {
      "cell_type": "code",
      "metadata": {
        "id": "C68NkJ2w1wsM",
        "colab": {
          "base_uri": "https://localhost:8080/"
        },
        "outputId": "8b121671-e3b5-4e9f-8397-f73953dfa08b"
      },
      "source": [
        "# sigmoid funtzioa\n",
        "import math\n",
        "def sigmoid(z):\n",
        "    \"\"\"\n",
        "    Calcula el sigmoide de z\n",
        "\n",
        "    Input:\n",
        "    z -- Un número real o un numpy-array de números reales.\n",
        "\n",
        "    Output:\n",
        "    s -- sigmoid(z)\n",
        "    \"\"\"\n",
        "    ## PON TU CODIGO AQUI ## (≈ 2 lineas)\n",
        "    s = 1 / (1 + np.exp(-z))\n",
        "    return s\n",
        "\n",
        "\n",
        "print (\"sigmoid([0, 2]) = \" + str(sigmoid(np.array([0,2]))))"
      ],
      "execution_count": null,
      "outputs": [
        {
          "output_type": "stream",
          "name": "stdout",
          "text": [
            "sigmoid([0, 2]) = [0.5        0.88079708]\n"
          ]
        }
      ]
    },
    {
      "cell_type": "markdown",
      "metadata": {
        "id": "gtWIo50l3Nl3"
      },
      "source": [
        "## 2.2 Inicializar los parámetros\n",
        "**Ejercicio:** Tienes que inicializar los parámetros en el siguiente código. Para eso, crea el array $w$ con ceros. **Pista:** mira la función np.zeros()."
      ]
    },
    {
      "cell_type": "code",
      "metadata": {
        "id": "MY7lF8Ta3s4z",
        "colab": {
          "base_uri": "https://localhost:8080/"
        },
        "outputId": "4a3b942f-7df6-4f19-e1a1-84b540d1eb0a"
      },
      "source": [
        "def initialize_with_zeros(dim):\n",
        "    \"\"\"\n",
        "    Esta funcion crea un vector de ceros de dimensiones (dim, 1), para inicializar w y b.\n",
        "\n",
        "    Argument:\n",
        "    dim -- tamaño del vector w.\n",
        "\n",
        "    Returns:\n",
        "    w -- vector w de ceros con dimension (dim, 1).\n",
        "    b -- parametro b inicializado a 0.\n",
        "    \"\"\"\n",
        "\n",
        "    ## PON TU CODIGO AQUI ## (≈ 2 lineas)\n",
        "\n",
        "\n",
        "    w = np.zeros((dim,1))\n",
        "    b = 0\n",
        "\n",
        "    ######################\n",
        "    assert(w.shape == (dim, 1))\n",
        "    assert(isinstance(b, float) or isinstance(b, int))\n",
        "\n",
        "    return w, b\n",
        "\n",
        "\n",
        "dim = 2\n",
        "w, b = initialize_with_zeros(dim)\n",
        "print (\"w = \" + str(w))\n",
        "print (\"b = \" + str(b))"
      ],
      "execution_count": null,
      "outputs": [
        {
          "output_type": "stream",
          "name": "stdout",
          "text": [
            "w = [[0.]\n",
            " [0.]]\n",
            "b = 0\n"
          ]
        }
      ]
    },
    {
      "cell_type": "markdown",
      "metadata": {
        "id": "MAzZpyg4PzSF"
      },
      "source": [
        "Gure datuak irudiak direnean,  $w$  (num_px  ×  num_px  ×  3, 1) dimentsioko bektorea izango da."
      ]
    },
    {
      "cell_type": "markdown",
      "metadata": {
        "id": "YYLu1VhjP8sd"
      },
      "source": [
        "# 2.3 Forward y backward pass\n",
        "Una vez inicializados los parámetros del modelo, dado un dataset de train, tenemos que implementar las funciones forward y backward que nos permitan aprender los parámetros.\n",
        "\n",
        "**Ejercicio:** Implementa la función de coste y su gradiente en la función propagate().\n",
        "\n",
        "**Pistas:**\n",
        "\n",
        "Forward pass:\n",
        "\n",
        "\n",
        "*   Consigue $X$.\n",
        "*   Calcula $A = \\sigma (W^T X + b) = (a^{(1)}, a^{(2)}, \\ldots, a^{(m)}) $\n",
        "*   Calcula la función de coste $J = -\\frac{1}{m}\\Sigma_{i=1}^m y^{(i)} log(a^(i)) + (1-y^{(i)}) log(1-a^{(i)})$\n",
        "\n",
        "Backward pass:\n",
        "\n",
        "\n",
        "*   $\\frac{\\delta J}{\\delta w} = \\frac{1}{m} X (A-Y)^T$\n",
        "*   $\\frac{\\delta J}{\\delta b} = \\frac{1}{m} \\Sigma_{i=1}^m (a^{(i)}-y^{(i)})$"
      ]
    },
    {
      "cell_type": "code",
      "metadata": {
        "id": "uXHxaEX_Rm5f",
        "colab": {
          "base_uri": "https://localhost:8080/"
        },
        "outputId": "0c319727-8415-4bd6-d10c-ca68cb8cbdb4"
      },
      "source": [
        "def propagate(w, b, X, Y):\n",
        "    import math\n",
        "    \"\"\"\n",
        "    Calcula la funcion de coste y su gradiente ejecutando el forward y el backward pass.\n",
        "\n",
        "    Input:\n",
        "    w -- pesos, numpy-array de tamaño (num_px * num_px * 3, 1).\n",
        "    b -- parametro b (bias).\n",
        "    X -- Conjunto de muestras X de train. Dimension: (num_px * num_px * 3, number of examples)\n",
        "    Y -- Conjunto de etiquetas Y de train (0 -> no gato, 1 -> gato). Dimension: (1, number of examples)\n",
        "\n",
        "    Output:\n",
        "    cost -- Coste de la regresion logistica.\n",
        "    dw -- gradiente de la funcion de coste respecto a w.\n",
        "    db -- gradiente de la funcion de coste respecto a b.\n",
        "\n",
        "    Pista:\n",
        "    - Escribe tu codigo paso a paso para la propagacion. np.log(), np.dot()\n",
        "    \"\"\"\n",
        "\n",
        "    m = X.shape[1]\n",
        "\n",
        "    # FORWARD PASS (empezando desde X hasta calcular el coste)\n",
        "    ## PON TU CODIGO AQUI ##  (≈ 2 lineas de codigo)\n",
        "    A = sigmoid(np.dot(w.T, X) + b)  # Activación\n",
        "    J = -1/m * np.sum(Y * np.log(A) + (1 - Y) * np.log(1 - A))\n",
        "\n",
        "    ######################\n",
        "\n",
        "    # BACKWARD PASS (calcula el gradiente)\n",
        "    ## PON TU CODIGO AQUI ## (≈ 3 lineas de codigo)\n",
        "\n",
        "    dz = A - Y\n",
        "    dw = np.dot(X, dz.T) / m\n",
        "    db = np.sum(dz) / m\n",
        "    ######################\n",
        "\n",
        "    # Asegúrate de que dw y db son de la forma correcta\n",
        "    assert(dw.shape == w.shape)\n",
        "    assert(db.dtype == float)\n",
        "\n",
        "    cost = J  # coste es el resultado de la forward pass\n",
        "\n",
        "    gradients = {\"dw\": dw,\n",
        "                 \"db\": db}\n",
        "\n",
        "    return gradients, cost\n",
        "\n",
        "\n",
        "w, b, X, Y = np.array([[1.],[2.]]), 2., np.array([[1.,2.,-1.],[3.,4.,-3.2]]), np.array([[1,0,1]])\n",
        "grads, cost = propagate(w, b, X, Y)\n",
        "print (\"dw = \" + str(grads[\"dw\"]))\n",
        "print (\"db = \" + str(grads[\"db\"]))\n",
        "print (\"cost = \" + str(cost))"
      ],
      "execution_count": null,
      "outputs": [
        {
          "output_type": "stream",
          "name": "stdout",
          "text": [
            "dw = [[0.99845601]\n",
            " [2.39507239]]\n",
            "db = 0.001455578136784208\n",
            "cost = 5.801545319394553\n"
          ]
        }
      ]
    },
    {
      "cell_type": "markdown",
      "metadata": {
        "id": "iU_bogRAt-XN"
      },
      "source": [
        "## 2.4 Gradient descent\n",
        "En este punto ya:\n",
        "\n",
        "\n",
        "*   has inicializado los parámetros,\n",
        "*   eres capaz de calcular la función de coste y el gradiente,\n",
        "*   vas a actualizar los parámetros usando el algoritmo \"gradient descent\" (descenso de gradiente)\n",
        "\n",
        "**Ejercicio:** implementa el algoritmo de descenso de gradiente en la función optimize(). Recuerda que el objetivo es aprender los parámetros $w$ y $b$ que minimicen la función $J$. Para cualquier parámetro $\\theta$, éste se actualiza segun la regla $\\theta = \\theta - \\alpha \\delta \\theta$, donde $\\alpha$ es la tasa de aprendizaje (learning rate)."
      ]
    },
    {
      "cell_type": "code",
      "metadata": {
        "id": "LoZvqDA0vvyt",
        "colab": {
          "base_uri": "https://localhost:8080/"
        },
        "outputId": "153bcdd0-7da5-48ae-ca0c-1a9883df348e"
      },
      "source": [
        "def optimize(w, b, X, Y, num_iterations, learning_rate, print_cost = False):\n",
        "    \"\"\"\n",
        "    Esta función optimiza los parámetros w y b para minimizar la función de coste siguiendo\n",
        "    el algoritmo de gradient descent.\n",
        "\n",
        "    Input:\n",
        "    w -- pesos, numpy-array de tamaño (num_px * num_px * 3, 1).\n",
        "    b -- parámetro b (bias).\n",
        "    X -- Conjunto de muestras X de train. Dimension: (num_px * num_px * 3, number of examples)\n",
        "    Y -- Conjunto de etiquetas Y de train (0 -> no gato, 1 -> gato). Dimension: (1, number of examples)\n",
        "    num_iterations -- numero de iteraciones del algoritmo.\n",
        "    learning_rate -- tasa de aprendizaje de la regla de actualización.\n",
        "    print_cost -- cuando es True, imprime el valor del gradiente cada 100 iteraciones.\n",
        "\n",
        "    Output:\n",
        "    params -- diccionario que guarda los parametros w y b.\n",
        "    grads -- diccionario que guarda los gradientes de los parametros w y b respecto a la funcion de coste.\n",
        "    costs -- lista donde se guardan los valores de coste. Los usaremos para generar una grafica.\n",
        "\n",
        "    Pistas:\n",
        "    Tienes que implementar dos pasos e iterar sobre ellos:\n",
        "        1) Calcular el coste y el gradiente para los parametros actuales. Usa propagate()\n",
        "        2) Actualizar los parametros w y b utilizando la regla de actualizacion del descenso de gradiente .\n",
        "    \"\"\"\n",
        "\n",
        "    costs = []\n",
        "    params = {'w':w,\n",
        "             'b':b}\n",
        "    m = X.shape[1]\n",
        "\n",
        "    for i in range(num_iterations):\n",
        "\n",
        "        # Calculo del coste y del gradiente (≈ 1 linea de codigo)\n",
        "        ## PON TU CODIGO AQUI ##\n",
        "        grads, cost = propagate(w, b, X, Y)\n",
        "\n",
        "        ######################\n",
        "\n",
        "        # Retrieve derivatives from grads\n",
        "        dw = grads[\"dw\"]\n",
        "        db = grads[\"db\"]\n",
        "\n",
        "        ## PON TU CODIGO AQUI ## #regla de actualizacion (≈ 3 lineas de codigo)\n",
        "\n",
        "        ######################\n",
        "        w = w - learning_rate * dw\n",
        "        b = b - learning_rate * db\n",
        "        # Guarda los costes.\n",
        "        if i % 100 == 0:\n",
        "            costs.append(cost)\n",
        "\n",
        "        # Imprime el coste cada 100 iteraciones.\n",
        "        if print_cost and i % 100 == 0:\n",
        "            print (\"Cost after iteration %i: %f\" %(i, cost))\n",
        "\n",
        "    params = {\"w\": w,\n",
        "              \"b\": b}\n",
        "\n",
        "    grads = {\"dw\": dw,\n",
        "             \"db\": db}\n",
        "\n",
        "    return params, grads, costs\n",
        "\n",
        "params, grads, costs = optimize(w, b, X, Y, num_iterations= 100, learning_rate = 0.009, print_cost = False)\n",
        "\n",
        "print (\"w = \" + str(params[\"w\"]))\n",
        "print (\"b = \" + str(params[\"b\"]))\n",
        "print (\"dw = \" + str(grads[\"dw\"]))\n",
        "print (\"db = \" + str(grads[\"db\"]))\n"
      ],
      "execution_count": null,
      "outputs": [
        {
          "output_type": "stream",
          "name": "stdout",
          "text": [
            "w = [[0.19033591]\n",
            " [0.12259159]]\n",
            "b = 1.9253598300845747\n",
            "dw = [[0.67752042]\n",
            " [1.41625495]]\n",
            "db = 0.21919450454067657\n"
          ]
        }
      ]
    },
    {
      "cell_type": "markdown",
      "metadata": {
        "id": "Nd2-uUlJzcgc"
      },
      "source": [
        "**Ejercicio:** La función anterior calcula los parámetros $w$ y $b$. La última función que necesitamos es la función predict(). Esta función será capaz de predecir la clase de unas muestras de test $X$, dados los parámetros $w$ y $b$. Para ello, tenemios que dar dos pasos:\n",
        "\n",
        "\n",
        "1.   Calcula $\\hat{y} = A = \\sigma (W^T X + b)$.\n",
        "2.   Convierte la predicción a 0 (si $\\hat{y} < 0.5$) o a 1 (si $\\hat{y} \\geq 0.5)$. Guarda todas las predicciones en el array Y_prediction."
      ]
    },
    {
      "cell_type": "code",
      "metadata": {
        "id": "5zMLVnPP0svc",
        "colab": {
          "base_uri": "https://localhost:8080/"
        },
        "outputId": "a26be5dd-7cf0-4df8-e3a7-f0072d651046"
      },
      "source": [
        "def predict(w, b, X):\n",
        "    '''\n",
        "    Dados los parametros de la regresion logistica (w, b), predice las clases (0 o 1) de las muestras.\n",
        "\n",
        "    Input:\n",
        "    w -- pesos, numpy-array de tamaño (num_px * num_px * 3, 1).\n",
        "    b -- parametro b (bias)).\n",
        "    X -- Conjunto de muestras X de test. Dimension: (num_px * num_px * 3, number of examples)\n",
        "\n",
        "    Output:\n",
        "    Y_prediction -- numpy-array con todas las predicciones obtenidas para las muestras en X (0/1).\n",
        "    '''\n",
        "\n",
        "    m = X.shape[1]\n",
        "    Y_prediction = np.zeros((1,m))\n",
        "    w = w.reshape(X.shape[0], 1)\n",
        "\n",
        "    # Calcula el vector \"A\", donde tendremos las probabilidades de que cada foto contenga un gato.\n",
        "    ## PON TU CODIGO AQUI ##  (≈ 1 linea)\n",
        "\n",
        "    ######################\n",
        "    A = sigmoid(np.dot(w.T, X) + b)\n",
        "    for i in range(A.shape[1]):\n",
        "        # Convierte las probabilidades A[0, i] a predicciones (0/1)\n",
        "        ## PON TU CODIGO AQUI ## (≈ 2 lineas)\n",
        "\n",
        "        ######################\n",
        "        Y_prediction[0, i] = 1 if A[0, i] > 0.5 else 0\n",
        "\n",
        "    assert(Y_prediction.shape == (1, m))\n",
        "\n",
        "    return Y_prediction\n",
        "\n",
        "\n",
        "w = np.array([[0.1124579],[0.23106775]])\n",
        "b = -0.3\n",
        "X = np.array([[1.,-1.1,-3.2],[1.2,2.,0.1]])\n",
        "print (\"predicciones = \" + str(predict(w, b, X)))\n"
      ],
      "execution_count": null,
      "outputs": [
        {
          "output_type": "stream",
          "name": "stdout",
          "text": [
            "predicciones = [[1. 1. 0.]]\n"
          ]
        }
      ]
    },
    {
      "cell_type": "markdown",
      "metadata": {
        "id": "PmNW2nJ3151H"
      },
      "source": [
        "# Construye el modelo y el clasificador\n",
        "Ya tenemos todos los ingredientes. Ahora usaremos todas las funciones anteriores para aplicar un clasificador de regresión logística a nuestro dataset.\n",
        "\n",
        "**Ejercicio:** Implementa el modelo usanod las funciones anteriores. Utiliza los siguientes nombres para declarar las variables:\n",
        "\n",
        "\n",
        "*   Y_prediction_test: predicciones hechas sobre el dataset de test.\n",
        "*   Y_prediction_train: predicciones hechas sobre el dataset de train."
      ]
    },
    {
      "cell_type": "code",
      "metadata": {
        "id": "N4V65F942pXA",
        "colab": {
          "base_uri": "https://localhost:8080/",
          "height": 1000
        },
        "outputId": "a9aef343-73fb-417e-b6fc-431402e20dfa"
      },
      "source": [
        "def model(X_train, Y_train, X_test, Y_test, num_iterations = 2000, learning_rate = 0.5, print_cost = False):\n",
        "    \"\"\"\n",
        "    Implementa el modelo de regresion logisitca usando las funciones implementadas anteriormente.\n",
        "\n",
        "    Input:\n",
        "    X_train -- numpy-array con el conjunto de muestras X de train. Dimension: (num_px * num_px * 3, m_train)\n",
        "    Y_train -- numpy-array con el conjunto de etiquetas Y de train (0 -> no gato, 1 -> gato). Dimension: (1, m_train)\n",
        "    X_test -- numpy-array con el conjunto de muestras X de test. Dimension: (num_px * num_px * 3, m_test)\n",
        "    Y_test -- numpy-array con el conjunto de etiquetas Y de test (0 -> no gato, 1 -> gato). Dimension: (1, m_test)\n",
        "    num_iterations -- Numero de iteraciones del algoritmo de gradient descent.\n",
        "    learning_rate -- hyperparametro que representa la tasa de aprendizaje (learning rate) de la regla de actualizacion en la función optimize().\n",
        "    print_cost -- True para imprimir el coste cada 100 iteraciones.\n",
        "\n",
        "    Output:\n",
        "    d -- diccionario con la informacion sobre el modelo (coste, predicciones de tes, predicciones de train, w, b, tasa de aprendizaje y numero de iteraciones).\n",
        "    \"\"\"\n",
        "\n",
        "    ## PON TU CODIGO AQUI ##\n",
        "\n",
        "    # Inicializa los parametros a 0 (≈ 1 linea)\n",
        "    w, b = initialize_with_zeros(X_train.shape[0])\n",
        "\n",
        "    # Gradient descent (≈ 1 linea)\n",
        "    params, grads, costs = optimize(w, b, X_train, Y_train, num_iterations, learning_rate, print_cost)\n",
        "\n",
        "\n",
        "    # Extrae los parametros w y b\n",
        "    w = params[\"w\"]\n",
        "    b = params[\"b\"]\n",
        "\n",
        "\n",
        "    # Predice las clases para las muestras de train y de test (≈ 2 lineas)\n",
        "    Y_prediction_train = predict(w, b, X_train)\n",
        "    Y_prediction_test = predict(w, b, X_test)\n",
        "\n",
        "\n",
        "    #####################\n",
        "\n",
        "    # Imprime la metrica de accuracy tanto para train como para test.\n",
        "    print(\"train accuracy: {} %\".format(100 - np.mean(np.abs(Y_prediction_train - Y_train)) * 100))\n",
        "    print(\"test accuracy: {} %\".format(100 - np.mean(np.abs(Y_prediction_test - Y_test)) * 100))\n",
        "\n",
        "\n",
        "    d = {\"cost\": costs,\n",
        "         \"Y_prediction_test\": Y_prediction_test,\n",
        "         \"Y_prediction_train\" : Y_prediction_train,\n",
        "         \"w\" : w,\n",
        "         \"b\" : b,\n",
        "         \"lr\" : learning_rate,\n",
        "         \"iterations\": num_iterations}\n",
        "\n",
        "    return d\n",
        "\n",
        "\n",
        "d = model(train_set_x, train_set_y, test_set_x, test_set_y, num_iterations = 2000, learning_rate = 0.005, print_cost = True)\n",
        "\n",
        "# Vamos a imprimir un ejemplo.\n",
        "index = 21\n",
        "plt.figure(1)\n",
        "plt.imshow(test_set_x[:,index].reshape((num_px, num_px, 3)))\n",
        "\n",
        "print (\"y = \" + str(test_set_y[0,index])+ \", you predicted that it is a \\\"\" + classes[test_set_y[0,index]].decode(\"utf-8\") +  \"\\\" picture.\")\n",
        "\n",
        "# Imprime la grafica del coste (curva de aprendizaje)\n",
        "costs = np.squeeze(d['cost'])\n",
        "plt.figure(2)\n",
        "plt.plot(costs)\n",
        "plt.ylabel('Coste')\n",
        "plt.xlabel('Iteraciones (en porcentajes)')\n",
        "plt.title(\"Tasa de aprendizaje =\" + str(d[\"lr\"]))\n",
        "plt.show()"
      ],
      "execution_count": null,
      "outputs": [
        {
          "output_type": "stream",
          "name": "stdout",
          "text": [
            "Cost after iteration 0: 0.693147\n",
            "Cost after iteration 100: 0.584508\n",
            "Cost after iteration 200: 0.466949\n",
            "Cost after iteration 300: 0.376007\n",
            "Cost after iteration 400: 0.331463\n",
            "Cost after iteration 500: 0.303273\n",
            "Cost after iteration 600: 0.279880\n",
            "Cost after iteration 700: 0.260042\n",
            "Cost after iteration 800: 0.242941\n",
            "Cost after iteration 900: 0.228004\n",
            "Cost after iteration 1000: 0.214820\n",
            "Cost after iteration 1100: 0.203078\n",
            "Cost after iteration 1200: 0.192544\n",
            "Cost after iteration 1300: 0.183033\n",
            "Cost after iteration 1400: 0.174399\n",
            "Cost after iteration 1500: 0.166521\n",
            "Cost after iteration 1600: 0.159305\n",
            "Cost after iteration 1700: 0.152667\n",
            "Cost after iteration 1800: 0.146542\n",
            "Cost after iteration 1900: 0.140872\n",
            "train accuracy: 99.04306220095694 %\n",
            "test accuracy: 70.0 %\n",
            "y = 0, you predicted that it is a \"non-cat\" picture.\n"
          ]
        },
        {
          "output_type": "display_data",
          "data": {
            "text/plain": [
              "<Figure size 640x480 with 1 Axes>"
            ],
            "image/png": "[encoded data removed]"
          },
          "metadata": {}
        },
        {
          "output_type": "display_data",
          "data": {
            "text/plain": [
              "<Figure size 640x480 with 1 Axes>"
            ],
            "image/png": "[encoded data removed]"
          },
          "metadata": {}
        }
      ]
    }
  ]
}